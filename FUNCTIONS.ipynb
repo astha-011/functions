{
  "nbformat": 4,
  "nbformat_minor": 0,
  "metadata": {
    "colab": {
      "provenance": []
    },
    "kernelspec": {
      "name": "python3",
      "display_name": "Python 3"
    },
    "language_info": {
      "name": "python"
    }
  },
  "cells": [
    {
      "cell_type": "code",
      "execution_count": null,
      "metadata": {
        "id": "mE8cXKAEcgZb"
      },
      "outputs": [],
      "source": []
    },
    {
      "cell_type": "markdown",
      "source": [
        "##THEORATICAL QUESTIONS\n",
        "1.What is the difference between a function and a method in Python?\n",
        "->Function is a block of code which performs some specific task and can be called independently while method is function that is specifically defined within a class and is always called as an object of the class.\n",
        "example of function- factorial,type,print ets.\n",
        "example of method- init,list,class etc.\n",
        "\n",
        "2. Explain the concept of function arguments and parameters in Python?\n",
        "->Function arguments are values passed to a functionj when its called.Eg:-positional arguments, keywords arguments.\n",
        "->Function parameters are variables that are defined in the function defination and receive data input from the function call.\n",
        "\n",
        "3. What are the different ways to define and call a function in Python?\n",
        "->In python you can define a function using the 'def' keyword followed by the function name, parantheses for arguments,and a colon,while calling a function is done by simply writing the function name followed by paranthesis; you can pass arguments within these parantheses to provide data to the function when its called.\n",
        "syntax:-def\n",
        "        function_name(parameters1,parameter2)\n",
        "\n",
        "4. What is the purpose of the `return` statement in a Python function?\n",
        "->Return statement in a function is used to end the execution of that function and send specific value back to the part of the code that called it,essentially allowing the function to provide a result that can be used in the rest of the program.\n",
        "\n",
        "5. What are iterators in Python and how do they differ from iterables?\n",
        "->Iterator is an object representing stream of data and it returns the data one by one while iterable is any python object or sequential structure that is capable of returning its members one at a time.\n",
        "\n",
        "6. Explain the concept of generators in Python and how they are defined.\n",
        "->Generator is a function that returns an iterator,which can be looped through to produce a sequence of values. Generators are defined using the 'yield' statement.\n",
        "\n",
        "7.What are the advantages of using generators over regular functions?\n",
        "->Generators can make your code easier to read and understan.\n",
        "->It can represent infinite streams of data because they produce only one item at a time.\n",
        "->It is faster than regular codes.\n",
        "->Generators are more memory efficient.\n",
        "\n",
        "8. What is a lambda function in Python and when is it typically used?\n",
        "->Lambda function is a small anonymous function defined using the lambda keyword typically used for short,simple operations where a full function defination is not necessary.these functions are efficient whenever you want to create a function that will only contain simple expressions.\n",
        "\n",
        "9. Explain the purpose and usage of the `map()` function in Python.\n",
        "->Map function is a function that works as an iterator to return a result afyer applying a function to every item of an iterable(tuple,lists,etc.)\n",
        "it is used when you want to apply a single transformation function to all the iterable elements.\n",
        "\n",
        "10. What is the difference between `map()`, `reduce()`, and `filter()` functions in Python?\n",
        "->'Map' operation transform one dform of data into another.'Reduce' operation combines the elements of a list into a single result and 'Filter' operation selects a subset of items from list based on a certain condition.\n",
        "\n",
        "11.write the internal mechanism for sum operation using  reduce function on this given\n",
        "list:[47,11,42,13]\n",
        "\n",
        "->The reduce function starts with the first two elements in the list: 47 and 11. It applies the lambda function to these two numbers:\n",
        "47 + 11 = 58.\n",
        "\n",
        "->Now, the intermediate result is 58. The next number in the list is 42. The lambda function is applied to 58 and 42:\n",
        "58 + 42 = 100.\n",
        "\n",
        "->Next, the intermediate result is 100. The final number in the list is 13. The lambda function is applied to 100 and 13:\n",
        "100 + 13 = 113.\n",
        "->After these cumulative steps, the final result is 113.\n",
        "\n"
      ],
      "metadata": {
        "id": "Uw6f1keP1oG5"
      }
    },
    {
      "cell_type": "markdown",
      "source": [
        "###PRACTICAL QUESTIONS\n"
      ],
      "metadata": {
        "id": "cL0aEVdwLJZh"
      }
    },
    {
      "cell_type": "code",
      "source": [
        "#1. Write a Python function that takes a list of numbers as input and returns the sum of all even numbers in list.\n",
        "def sum_of_evens(numbers):\n",
        "    return sum(num for num in numbers if num % 2 == 0)\n",
        "numbers = [23,45,87,44,24]\n",
        "result = sum_of_evens(numbers)\n",
        "print(\"Sum of even numbers:\", result)\n",
        "\n",
        "\n",
        "\n",
        "\n"
      ],
      "metadata": {
        "colab": {
          "base_uri": "https://localhost:8080/"
        },
        "id": "BxKKAmcaMM3V",
        "outputId": "37605edf-79e8-4e66-ab66-bb875a550b72"
      },
      "execution_count": null,
      "outputs": [
        {
          "output_type": "stream",
          "name": "stdout",
          "text": [
            "Sum of even numbers: 68\n"
          ]
        }
      ]
    },
    {
      "cell_type": "code",
      "source": [
        "#2.Create a Python function that accepts a string and returns the reverse of that string.\n",
        "def reverse_string(input_string):\n",
        "    return input_string[::-1]\n",
        "input_string = \"hello\"\n",
        "reversed_string = reverse_string(input_string)\n",
        "print(\"Reversed string:\", reversed_string)\n"
      ],
      "metadata": {
        "colab": {
          "base_uri": "https://localhost:8080/"
        },
        "id": "WSCPlG38NOgo",
        "outputId": "f2c5570f-a543-41e8-a2ae-7ccaf95a3bf6"
      },
      "execution_count": null,
      "outputs": [
        {
          "output_type": "stream",
          "name": "stdout",
          "text": [
            "Reversed string: olleh\n"
          ]
        }
      ]
    },
    {
      "cell_type": "code",
      "source": [
        "#3. Implement a Python function that takes a list of integers and returns a new list containing the squares of each number.\n",
        "def square_numbers(numbers):\n",
        "    return [num ** 2 for num in numbers]\n",
        "numbers = [2, 3, 4, 5]\n",
        "squared_numbers = square_numbers(numbers)\n",
        "print(\"Squared numbers:\", squared_numbers)\n"
      ],
      "metadata": {
        "colab": {
          "base_uri": "https://localhost:8080/"
        },
        "id": "XOl1Lj9xOEbB",
        "outputId": "9e1ce61b-7a9d-4df0-fc50-42579b06a6ff"
      },
      "execution_count": null,
      "outputs": [
        {
          "output_type": "stream",
          "name": "stdout",
          "text": [
            "Squared numbers: [4, 9, 16, 25]\n"
          ]
        }
      ]
    },
    {
      "cell_type": "code",
      "source": [
        "#4. Write a Python function that checks if a given number is prime or not from 1 to 200.\n",
        "def is_prime(num):\n",
        "    if num <= 1:\n",
        "        return False\n",
        "    for i in range(2, int(num ** 0.5) + 1):\n",
        "        if num % i == 0:\n",
        "            return False\n",
        "    return True\n",
        "for number in range(1, 201):\n",
        "    if is_prime(number):\n",
        "        print(f\"{number} is prime.\")\n",
        "\n"
      ],
      "metadata": {
        "colab": {
          "base_uri": "https://localhost:8080/"
        },
        "id": "8OeQJipMPG3v",
        "outputId": "6d5ee2d4-1c45-4326-fa67-83187f182b97"
      },
      "execution_count": null,
      "outputs": [
        {
          "output_type": "stream",
          "name": "stdout",
          "text": [
            "2 is prime.\n",
            "3 is prime.\n",
            "5 is prime.\n",
            "7 is prime.\n",
            "11 is prime.\n",
            "13 is prime.\n",
            "17 is prime.\n",
            "19 is prime.\n",
            "23 is prime.\n",
            "29 is prime.\n",
            "31 is prime.\n",
            "37 is prime.\n",
            "41 is prime.\n",
            "43 is prime.\n",
            "47 is prime.\n",
            "53 is prime.\n",
            "59 is prime.\n",
            "61 is prime.\n",
            "67 is prime.\n",
            "71 is prime.\n",
            "73 is prime.\n",
            "79 is prime.\n",
            "83 is prime.\n",
            "89 is prime.\n",
            "97 is prime.\n",
            "101 is prime.\n",
            "103 is prime.\n",
            "107 is prime.\n",
            "109 is prime.\n",
            "113 is prime.\n",
            "127 is prime.\n",
            "131 is prime.\n",
            "137 is prime.\n",
            "139 is prime.\n",
            "149 is prime.\n",
            "151 is prime.\n",
            "157 is prime.\n",
            "163 is prime.\n",
            "167 is prime.\n",
            "173 is prime.\n",
            "179 is prime.\n",
            "181 is prime.\n",
            "191 is prime.\n",
            "193 is prime.\n",
            "197 is prime.\n",
            "199 is prime.\n"
          ]
        }
      ]
    },
    {
      "cell_type": "code",
      "source": [
        "#5. Create an iterator class in Python that generates the Fibonacci sequence up to a specified number of terms.\n",
        "class FibonacciIterator:\n",
        "    def __init__(self, n):\n",
        "        self.n = n\n",
        "        self.a, self.b = 0, 1\n",
        "        self.count = 0\n",
        "\n",
        "    def __iter__(self):\n",
        "        return self\n",
        "\n",
        "    def __next__(self):\n",
        "        if self.count < self.n:\n",
        "            fib_num = self.a\n",
        "            self.a, self.b = self.b, self.a + self.b\n",
        "            self.count += 1\n",
        "            return fib_num\n",
        "        else:\n",
        "            raise StopIteration\n",
        "\n",
        "\n",
        "fibonacci = FibonacciIterator(10)\n",
        "for num in fibonacci:\n",
        "    print(num)\n"
      ],
      "metadata": {
        "colab": {
          "base_uri": "https://localhost:8080/"
        },
        "id": "X3WJ-ZO7Qbvo",
        "outputId": "6cc8f358-82ca-4886-c072-9f9141c621f1"
      },
      "execution_count": null,
      "outputs": [
        {
          "output_type": "stream",
          "name": "stdout",
          "text": [
            "0\n",
            "1\n",
            "1\n",
            "2\n",
            "3\n",
            "5\n",
            "8\n",
            "13\n",
            "21\n",
            "34\n"
          ]
        }
      ]
    },
    {
      "cell_type": "code",
      "source": [
        "#6.Write a generator function in Python that yields the powers of 2 up to a given exponent\n",
        "def power_of_two(exponent):\n",
        "    for i in range(exponent + 1):\n",
        "        yield 2 ** i\n",
        "for power in power_of_two(5):\n",
        "    print(power)"
      ],
      "metadata": {
        "colab": {
          "base_uri": "https://localhost:8080/"
        },
        "id": "QS9_Q3OERJlT",
        "outputId": "96766c9e-ec0a-42a5-9d98-b9f202404b2e"
      },
      "execution_count": null,
      "outputs": [
        {
          "output_type": "stream",
          "name": "stdout",
          "text": [
            "1\n",
            "2\n",
            "4\n",
            "8\n",
            "16\n",
            "32\n"
          ]
        }
      ]
    },
    {
      "cell_type": "code",
      "source": [
        "#7.Implement a generator function that reads a file line by line and yields each line as a string.\n",
        "def read_file_lines(file_path):\n",
        "    with open(file_path, 'r') as file:\n",
        "        for line in file:\n",
        "            yield line.strip()\n"
      ],
      "metadata": {
        "id": "KU_qKKLBReOd"
      },
      "execution_count": null,
      "outputs": []
    },
    {
      "cell_type": "code",
      "source": [
        "#8. Use a lambda function in Python to sort a list of tuples based on the second element of each tuple.\n",
        "my_list = [(1, 5), (3, 2), (4, 9), (2, 6)]\n",
        "sorted_list = sorted(my_list, key=lambda x: x[1])\n",
        "\n",
        "print(sorted_list)\n",
        "\n",
        "\n",
        "\n"
      ],
      "metadata": {
        "colab": {
          "base_uri": "https://localhost:8080/"
        },
        "id": "3R2VXAgdR8Pr",
        "outputId": "d96915e9-6273-4132-eaed-bb6b965053ed"
      },
      "execution_count": null,
      "outputs": [
        {
          "output_type": "stream",
          "name": "stdout",
          "text": [
            "[(3, 2), (1, 5), (2, 6), (4, 9)]\n"
          ]
        }
      ]
    },
    {
      "cell_type": "code",
      "source": [
        "#9.Write a Python program that uses `map()` to convert a list of temperatures from Celsius to Fahrenheit.# List of temperatures in Celsius\n",
        "celsius_temperatures = [0, 20, 25, 30, 35, 40]\n",
        "def celsius_to_fahrenheit(celsius):\n",
        "    return (celsius * 9/5) + 3\n",
        "fahrenheit_temperatures = list(map(celsius_to_fahrenheit, celsius_temperatures))\n",
        "print(fahrenheit_temperatures)\n",
        "\n"
      ],
      "metadata": {
        "colab": {
          "base_uri": "https://localhost:8080/"
        },
        "id": "IOE7G6FGSmII",
        "outputId": "fb6824f9-6be4-45f6-bb90-4b657dade826"
      },
      "execution_count": null,
      "outputs": [
        {
          "output_type": "stream",
          "name": "stdout",
          "text": [
            "[3.0, 39.0, 48.0, 57.0, 66.0, 75.0]\n"
          ]
        }
      ]
    },
    {
      "cell_type": "code",
      "source": [
        "# 10. Create a Python program that uses `filter()` to remove all the vowels from a given string.\n",
        "def is_not_vowel(char):\n",
        "    return char.lower() not in 'aeiou'\n",
        "input_string = \"Hello, World!\"\n",
        "filtered_string = ''.join(filter(is_not_vowel, input_string))\n",
        "print(filtered_string)\n"
      ],
      "metadata": {
        "colab": {
          "base_uri": "https://localhost:8080/"
        },
        "id": "tSx4enSJTCRm",
        "outputId": "4be7ed15-f6ce-457f-b1ad-92730289f63b"
      },
      "execution_count": null,
      "outputs": [
        {
          "output_type": "stream",
          "name": "stdout",
          "text": [
            "Hll, Wrld!\n"
          ]
        }
      ]
    },
    {
      "cell_type": "code",
      "source": [],
      "metadata": {
        "id": "676lCghHTmyJ"
      },
      "execution_count": null,
      "outputs": []
    }
  ]
}